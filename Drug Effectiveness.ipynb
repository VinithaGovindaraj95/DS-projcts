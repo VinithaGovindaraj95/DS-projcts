{
 "cells": [
  {
   "cell_type": "code",
   "execution_count": 144,
   "id": "8a7b1971",
   "metadata": {},
   "outputs": [],
   "source": [
    "import pandas as pd\n",
    "import numpy as np\n",
    "import matplotlib.pyplot as plt\n",
    "import seaborn as sns"
   ]
  },
  {
   "cell_type": "code",
   "execution_count": 145,
   "id": "3c1ec20e",
   "metadata": {},
   "outputs": [
    {
     "data": {
      "text/html": [
       "<div>\n",
       "<style scoped>\n",
       "    .dataframe tbody tr th:only-of-type {\n",
       "        vertical-align: middle;\n",
       "    }\n",
       "\n",
       "    .dataframe tbody tr th {\n",
       "        vertical-align: top;\n",
       "    }\n",
       "\n",
       "    .dataframe thead th {\n",
       "        text-align: right;\n",
       "    }\n",
       "</style>\n",
       "<table border=\"1\" class=\"dataframe\">\n",
       "  <thead>\n",
       "    <tr style=\"text-align: right;\">\n",
       "      <th></th>\n",
       "      <th>Condition</th>\n",
       "      <th>Drug</th>\n",
       "      <th>Indication</th>\n",
       "      <th>Type</th>\n",
       "      <th>Reviews</th>\n",
       "      <th>Effective</th>\n",
       "      <th>EaseOfUse</th>\n",
       "      <th>Satisfaction</th>\n",
       "      <th>Information</th>\n",
       "    </tr>\n",
       "  </thead>\n",
       "  <tbody>\n",
       "    <tr>\n",
       "      <th>0</th>\n",
       "      <td>Acute Bacterial Sinusitis</td>\n",
       "      <td>Levofloxacin</td>\n",
       "      <td>On Label</td>\n",
       "      <td>RX</td>\n",
       "      <td>994 Reviews</td>\n",
       "      <td>2.52</td>\n",
       "      <td>3.01</td>\n",
       "      <td>1.84</td>\n",
       "      <td>\\r\\n\\t\\t\\t\\t\\tLevofloxacin is used to treat a ...</td>\n",
       "    </tr>\n",
       "    <tr>\n",
       "      <th>1</th>\n",
       "      <td>Acute Bacterial Sinusitis</td>\n",
       "      <td>Levofloxacin</td>\n",
       "      <td>On Label</td>\n",
       "      <td>RX</td>\n",
       "      <td>994 Reviews</td>\n",
       "      <td>2.52</td>\n",
       "      <td>3.01</td>\n",
       "      <td>1.84</td>\n",
       "      <td>\\r\\n\\t\\t\\t\\t\\tLevofloxacin is used to treat a ...</td>\n",
       "    </tr>\n",
       "    <tr>\n",
       "      <th>2</th>\n",
       "      <td>Acute Bacterial Sinusitis</td>\n",
       "      <td>Moxifloxacin</td>\n",
       "      <td>On Label</td>\n",
       "      <td>RX</td>\n",
       "      <td>755 Reviews</td>\n",
       "      <td>2.78</td>\n",
       "      <td>3.00</td>\n",
       "      <td>2.08</td>\n",
       "      <td>\\r\\n\\t\\t\\t\\t\\t This is a generic drug. The ave...</td>\n",
       "    </tr>\n",
       "    <tr>\n",
       "      <th>3</th>\n",
       "      <td>Acute Bacterial Sinusitis</td>\n",
       "      <td>Azithromycin</td>\n",
       "      <td>On Label</td>\n",
       "      <td>RX</td>\n",
       "      <td>584 Reviews</td>\n",
       "      <td>3.21</td>\n",
       "      <td>4.01</td>\n",
       "      <td>2.57</td>\n",
       "      <td>\\r\\n\\t\\t\\t\\t\\tAzithromycin is an antibiotic (m...</td>\n",
       "    </tr>\n",
       "    <tr>\n",
       "      <th>4</th>\n",
       "      <td>Acute Bacterial Sinusitis</td>\n",
       "      <td>Azithromycin</td>\n",
       "      <td>On Label</td>\n",
       "      <td>RX</td>\n",
       "      <td>584 Reviews</td>\n",
       "      <td>3.21</td>\n",
       "      <td>4.01</td>\n",
       "      <td>2.57</td>\n",
       "      <td>\\r\\n\\t\\t\\t\\t\\tAzithromycin is an antibiotic (m...</td>\n",
       "    </tr>\n",
       "  </tbody>\n",
       "</table>\n",
       "</div>"
      ],
      "text/plain": [
       "                   Condition          Drug Indication Type      Reviews  \\\n",
       "0  Acute Bacterial Sinusitis  Levofloxacin   On Label   RX  994 Reviews   \n",
       "1  Acute Bacterial Sinusitis  Levofloxacin   On Label   RX  994 Reviews   \n",
       "2  Acute Bacterial Sinusitis  Moxifloxacin   On Label   RX  755 Reviews   \n",
       "3  Acute Bacterial Sinusitis  Azithromycin   On Label   RX  584 Reviews   \n",
       "4  Acute Bacterial Sinusitis  Azithromycin   On Label   RX  584 Reviews   \n",
       "\n",
       "   Effective  EaseOfUse  Satisfaction  \\\n",
       "0       2.52       3.01          1.84   \n",
       "1       2.52       3.01          1.84   \n",
       "2       2.78       3.00          2.08   \n",
       "3       3.21       4.01          2.57   \n",
       "4       3.21       4.01          2.57   \n",
       "\n",
       "                                         Information  \n",
       "0  \\r\\n\\t\\t\\t\\t\\tLevofloxacin is used to treat a ...  \n",
       "1  \\r\\n\\t\\t\\t\\t\\tLevofloxacin is used to treat a ...  \n",
       "2  \\r\\n\\t\\t\\t\\t\\t This is a generic drug. The ave...  \n",
       "3  \\r\\n\\t\\t\\t\\t\\tAzithromycin is an antibiotic (m...  \n",
       "4  \\r\\n\\t\\t\\t\\t\\tAzithromycin is an antibiotic (m...  "
      ]
     },
     "execution_count": 145,
     "metadata": {},
     "output_type": "execute_result"
    }
   ],
   "source": [
    "df=pd.read_csv(r\"C:\\Users\\ADMIN\\Downloads\\Data sets\\Downloads\\Drug.csv\")\n",
    "df.head()"
   ]
  },
  {
   "cell_type": "code",
   "execution_count": 146,
   "id": "7d505230",
   "metadata": {},
   "outputs": [
    {
     "data": {
      "text/html": [
       "<div>\n",
       "<style scoped>\n",
       "    .dataframe tbody tr th:only-of-type {\n",
       "        vertical-align: middle;\n",
       "    }\n",
       "\n",
       "    .dataframe tbody tr th {\n",
       "        vertical-align: top;\n",
       "    }\n",
       "\n",
       "    .dataframe thead th {\n",
       "        text-align: right;\n",
       "    }\n",
       "</style>\n",
       "<table border=\"1\" class=\"dataframe\">\n",
       "  <thead>\n",
       "    <tr style=\"text-align: right;\">\n",
       "      <th></th>\n",
       "      <th>Condition</th>\n",
       "      <th>Drug</th>\n",
       "      <th>Indication</th>\n",
       "      <th>Type</th>\n",
       "      <th>Reviews</th>\n",
       "      <th>Effective</th>\n",
       "      <th>EaseOfUse</th>\n",
       "      <th>Satisfaction</th>\n",
       "      <th>Information</th>\n",
       "    </tr>\n",
       "  </thead>\n",
       "  <tbody>\n",
       "    <tr>\n",
       "      <th>1</th>\n",
       "      <td>Acute Bacterial Sinusitis</td>\n",
       "      <td>Levofloxacin</td>\n",
       "      <td>On Label</td>\n",
       "      <td>RX</td>\n",
       "      <td>994 Reviews</td>\n",
       "      <td>2.52</td>\n",
       "      <td>3.01</td>\n",
       "      <td>1.84</td>\n",
       "      <td>\\r\\n\\t\\t\\t\\t\\tLevofloxacin is used to treat a ...</td>\n",
       "    </tr>\n",
       "    <tr>\n",
       "      <th>4</th>\n",
       "      <td>Acute Bacterial Sinusitis</td>\n",
       "      <td>Azithromycin</td>\n",
       "      <td>On Label</td>\n",
       "      <td>RX</td>\n",
       "      <td>584 Reviews</td>\n",
       "      <td>3.21</td>\n",
       "      <td>4.01</td>\n",
       "      <td>2.57</td>\n",
       "      <td>\\r\\n\\t\\t\\t\\t\\tAzithromycin is an antibiotic (m...</td>\n",
       "    </tr>\n",
       "    <tr>\n",
       "      <th>5</th>\n",
       "      <td>Acute Bacterial Sinusitis</td>\n",
       "      <td>Azithromycin</td>\n",
       "      <td>On Label</td>\n",
       "      <td>RX</td>\n",
       "      <td>584 Reviews</td>\n",
       "      <td>3.21</td>\n",
       "      <td>4.01</td>\n",
       "      <td>2.57</td>\n",
       "      <td>\\r\\n\\t\\t\\t\\t\\tAzithromycin is an antibiotic (m...</td>\n",
       "    </tr>\n",
       "    <tr>\n",
       "      <th>6</th>\n",
       "      <td>Acute Bacterial Sinusitis</td>\n",
       "      <td>Azithromycin</td>\n",
       "      <td>On Label</td>\n",
       "      <td>RX</td>\n",
       "      <td>584 Reviews</td>\n",
       "      <td>3.21</td>\n",
       "      <td>4.01</td>\n",
       "      <td>2.57</td>\n",
       "      <td>\\r\\n\\t\\t\\t\\t\\tAzithromycin is an antibiotic (m...</td>\n",
       "    </tr>\n",
       "    <tr>\n",
       "      <th>7</th>\n",
       "      <td>Acute Bacterial Sinusitis</td>\n",
       "      <td>Azithromycin</td>\n",
       "      <td>On Label</td>\n",
       "      <td>RX</td>\n",
       "      <td>584 Reviews</td>\n",
       "      <td>3.21</td>\n",
       "      <td>4.01</td>\n",
       "      <td>2.57</td>\n",
       "      <td>\\r\\n\\t\\t\\t\\t\\tAzithromycin is an antibiotic (m...</td>\n",
       "    </tr>\n",
       "    <tr>\n",
       "      <th>...</th>\n",
       "      <td>...</td>\n",
       "      <td>...</td>\n",
       "      <td>...</td>\n",
       "      <td>...</td>\n",
       "      <td>...</td>\n",
       "      <td>...</td>\n",
       "      <td>...</td>\n",
       "      <td>...</td>\n",
       "      <td>...</td>\n",
       "    </tr>\n",
       "    <tr>\n",
       "      <th>2187</th>\n",
       "      <td>vertigo</td>\n",
       "      <td>Diphenhydramine Hcl</td>\n",
       "      <td>On Label</td>\n",
       "      <td>OTC</td>\n",
       "      <td>1 Reviews</td>\n",
       "      <td>5.00</td>\n",
       "      <td>5.00</td>\n",
       "      <td>5.00</td>\n",
       "      <td>\\r\\n\\t\\t\\t\\t\\t This is a generic drug. You can...</td>\n",
       "    </tr>\n",
       "    <tr>\n",
       "      <th>2188</th>\n",
       "      <td>vertigo</td>\n",
       "      <td>Diphenhydramine Hcl</td>\n",
       "      <td>On Label</td>\n",
       "      <td>OTC</td>\n",
       "      <td>1 Reviews</td>\n",
       "      <td>4.00</td>\n",
       "      <td>5.00</td>\n",
       "      <td>3.00</td>\n",
       "      <td>\\r\\n\\t\\t\\t\\t\\t This is a generic drug. You can...</td>\n",
       "    </tr>\n",
       "    <tr>\n",
       "      <th>2189</th>\n",
       "      <td>vertigo</td>\n",
       "      <td>Diphenhydramine Hcl</td>\n",
       "      <td>On Label</td>\n",
       "      <td>OTC</td>\n",
       "      <td>1 Reviews</td>\n",
       "      <td>3.00</td>\n",
       "      <td>4.00</td>\n",
       "      <td>4.00</td>\n",
       "      <td>\\r\\n\\t\\t\\t\\t\\t This is a generic drug. You can...</td>\n",
       "    </tr>\n",
       "    <tr>\n",
       "      <th>2193</th>\n",
       "      <td>vulvovaginal candidiasis</td>\n",
       "      <td>Fluconazole</td>\n",
       "      <td>On Label</td>\n",
       "      <td>RX</td>\n",
       "      <td>225 Reviews</td>\n",
       "      <td>3.32</td>\n",
       "      <td>4.41</td>\n",
       "      <td>2.97</td>\n",
       "      <td>\\r\\n\\t\\t\\t\\t\\tFluconazole is used to treat vag...</td>\n",
       "    </tr>\n",
       "    <tr>\n",
       "      <th>2195</th>\n",
       "      <td>vulvovaginal candidiasis</td>\n",
       "      <td>Fluconazole</td>\n",
       "      <td>On Label</td>\n",
       "      <td>RX</td>\n",
       "      <td>168 Reviews</td>\n",
       "      <td>3.88</td>\n",
       "      <td>4.42</td>\n",
       "      <td>3.47</td>\n",
       "      <td>\\r\\n\\t\\t\\t\\t\\tFluconazole is used to treat vag...</td>\n",
       "    </tr>\n",
       "  </tbody>\n",
       "</table>\n",
       "<p>466 rows × 9 columns</p>\n",
       "</div>"
      ],
      "text/plain": [
       "                      Condition                 Drug Indication Type  \\\n",
       "1     Acute Bacterial Sinusitis         Levofloxacin   On Label   RX   \n",
       "4     Acute Bacterial Sinusitis         Azithromycin   On Label   RX   \n",
       "5     Acute Bacterial Sinusitis         Azithromycin   On Label   RX   \n",
       "6     Acute Bacterial Sinusitis         Azithromycin   On Label   RX   \n",
       "7     Acute Bacterial Sinusitis         Azithromycin   On Label   RX   \n",
       "...                         ...                  ...        ...  ...   \n",
       "2187                    vertigo  Diphenhydramine Hcl   On Label  OTC   \n",
       "2188                    vertigo  Diphenhydramine Hcl   On Label  OTC   \n",
       "2189                    vertigo  Diphenhydramine Hcl   On Label  OTC   \n",
       "2193   vulvovaginal candidiasis          Fluconazole   On Label   RX   \n",
       "2195   vulvovaginal candidiasis          Fluconazole   On Label   RX   \n",
       "\n",
       "          Reviews  Effective  EaseOfUse  Satisfaction  \\\n",
       "1     994 Reviews       2.52       3.01          1.84   \n",
       "4     584 Reviews       3.21       4.01          2.57   \n",
       "5     584 Reviews       3.21       4.01          2.57   \n",
       "6     584 Reviews       3.21       4.01          2.57   \n",
       "7     584 Reviews       3.21       4.01          2.57   \n",
       "...           ...        ...        ...           ...   \n",
       "2187    1 Reviews       5.00       5.00          5.00   \n",
       "2188    1 Reviews       4.00       5.00          3.00   \n",
       "2189    1 Reviews       3.00       4.00          4.00   \n",
       "2193  225 Reviews       3.32       4.41          2.97   \n",
       "2195  168 Reviews       3.88       4.42          3.47   \n",
       "\n",
       "                                            Information  \n",
       "1     \\r\\n\\t\\t\\t\\t\\tLevofloxacin is used to treat a ...  \n",
       "4     \\r\\n\\t\\t\\t\\t\\tAzithromycin is an antibiotic (m...  \n",
       "5     \\r\\n\\t\\t\\t\\t\\tAzithromycin is an antibiotic (m...  \n",
       "6     \\r\\n\\t\\t\\t\\t\\tAzithromycin is an antibiotic (m...  \n",
       "7     \\r\\n\\t\\t\\t\\t\\tAzithromycin is an antibiotic (m...  \n",
       "...                                                 ...  \n",
       "2187  \\r\\n\\t\\t\\t\\t\\t This is a generic drug. You can...  \n",
       "2188  \\r\\n\\t\\t\\t\\t\\t This is a generic drug. You can...  \n",
       "2189  \\r\\n\\t\\t\\t\\t\\t This is a generic drug. You can...  \n",
       "2193  \\r\\n\\t\\t\\t\\t\\tFluconazole is used to treat vag...  \n",
       "2195  \\r\\n\\t\\t\\t\\t\\tFluconazole is used to treat vag...  \n",
       "\n",
       "[466 rows x 9 columns]"
      ]
     },
     "execution_count": 146,
     "metadata": {},
     "output_type": "execute_result"
    }
   ],
   "source": [
    "df.loc[df.duplicated()]"
   ]
  },
  {
   "cell_type": "code",
   "execution_count": 147,
   "id": "f9e5d533",
   "metadata": {},
   "outputs": [
    {
     "data": {
      "text/plain": [
       "466"
      ]
     },
     "execution_count": 147,
     "metadata": {},
     "output_type": "execute_result"
    }
   ],
   "source": [
    "df.duplicated().sum()"
   ]
  },
  {
   "cell_type": "code",
   "execution_count": 148,
   "id": "2dcae775",
   "metadata": {},
   "outputs": [
    {
     "data": {
      "text/plain": [
       "(2219, 9)"
      ]
     },
     "execution_count": 148,
     "metadata": {},
     "output_type": "execute_result"
    }
   ],
   "source": [
    "df.shape"
   ]
  },
  {
   "cell_type": "code",
   "execution_count": 149,
   "id": "f3631333",
   "metadata": {},
   "outputs": [
    {
     "data": {
      "text/plain": [
       "(2219, 9)"
      ]
     },
     "execution_count": 149,
     "metadata": {},
     "output_type": "execute_result"
    }
   ],
   "source": [
    "df.shape"
   ]
  },
  {
   "cell_type": "code",
   "execution_count": 150,
   "id": "69cddfcd",
   "metadata": {},
   "outputs": [
    {
     "data": {
      "text/html": [
       "<div>\n",
       "<style scoped>\n",
       "    .dataframe tbody tr th:only-of-type {\n",
       "        vertical-align: middle;\n",
       "    }\n",
       "\n",
       "    .dataframe tbody tr th {\n",
       "        vertical-align: top;\n",
       "    }\n",
       "\n",
       "    .dataframe thead th {\n",
       "        text-align: right;\n",
       "    }\n",
       "</style>\n",
       "<table border=\"1\" class=\"dataframe\">\n",
       "  <thead>\n",
       "    <tr style=\"text-align: right;\">\n",
       "      <th></th>\n",
       "      <th>Condition</th>\n",
       "      <th>Drug</th>\n",
       "      <th>Indication</th>\n",
       "      <th>Type</th>\n",
       "      <th>Reviews</th>\n",
       "      <th>Effective</th>\n",
       "      <th>EaseOfUse</th>\n",
       "      <th>Satisfaction</th>\n",
       "      <th>Information</th>\n",
       "    </tr>\n",
       "  </thead>\n",
       "  <tbody>\n",
       "    <tr>\n",
       "      <th>0</th>\n",
       "      <td>Acute Bacterial Sinusitis</td>\n",
       "      <td>Levofloxacin</td>\n",
       "      <td>On Label</td>\n",
       "      <td>RX</td>\n",
       "      <td>994 Reviews</td>\n",
       "      <td>2.52</td>\n",
       "      <td>3.01</td>\n",
       "      <td>1.84</td>\n",
       "      <td>\\r\\n\\t\\t\\t\\t\\tLevofloxacin is used to treat a ...</td>\n",
       "    </tr>\n",
       "    <tr>\n",
       "      <th>1</th>\n",
       "      <td>Acute Bacterial Sinusitis</td>\n",
       "      <td>Levofloxacin</td>\n",
       "      <td>On Label</td>\n",
       "      <td>RX</td>\n",
       "      <td>994 Reviews</td>\n",
       "      <td>2.52</td>\n",
       "      <td>3.01</td>\n",
       "      <td>1.84</td>\n",
       "      <td>\\r\\n\\t\\t\\t\\t\\tLevofloxacin is used to treat a ...</td>\n",
       "    </tr>\n",
       "    <tr>\n",
       "      <th>2</th>\n",
       "      <td>Acute Bacterial Sinusitis</td>\n",
       "      <td>Moxifloxacin</td>\n",
       "      <td>On Label</td>\n",
       "      <td>RX</td>\n",
       "      <td>755 Reviews</td>\n",
       "      <td>2.78</td>\n",
       "      <td>3.00</td>\n",
       "      <td>2.08</td>\n",
       "      <td>\\r\\n\\t\\t\\t\\t\\t This is a generic drug. The ave...</td>\n",
       "    </tr>\n",
       "    <tr>\n",
       "      <th>3</th>\n",
       "      <td>Acute Bacterial Sinusitis</td>\n",
       "      <td>Azithromycin</td>\n",
       "      <td>On Label</td>\n",
       "      <td>RX</td>\n",
       "      <td>584 Reviews</td>\n",
       "      <td>3.21</td>\n",
       "      <td>4.01</td>\n",
       "      <td>2.57</td>\n",
       "      <td>\\r\\n\\t\\t\\t\\t\\tAzithromycin is an antibiotic (m...</td>\n",
       "    </tr>\n",
       "    <tr>\n",
       "      <th>4</th>\n",
       "      <td>Acute Bacterial Sinusitis</td>\n",
       "      <td>Azithromycin</td>\n",
       "      <td>On Label</td>\n",
       "      <td>RX</td>\n",
       "      <td>584 Reviews</td>\n",
       "      <td>3.21</td>\n",
       "      <td>4.01</td>\n",
       "      <td>2.57</td>\n",
       "      <td>\\r\\n\\t\\t\\t\\t\\tAzithromycin is an antibiotic (m...</td>\n",
       "    </tr>\n",
       "    <tr>\n",
       "      <th>...</th>\n",
       "      <td>...</td>\n",
       "      <td>...</td>\n",
       "      <td>...</td>\n",
       "      <td>...</td>\n",
       "      <td>...</td>\n",
       "      <td>...</td>\n",
       "      <td>...</td>\n",
       "      <td>...</td>\n",
       "      <td>...</td>\n",
       "    </tr>\n",
       "    <tr>\n",
       "      <th>2214</th>\n",
       "      <td>vulvovaginal candidiasis</td>\n",
       "      <td>Clotrimazole</td>\n",
       "      <td>On Label</td>\n",
       "      <td>OTC</td>\n",
       "      <td>2 Reviews</td>\n",
       "      <td>5.00</td>\n",
       "      <td>5.00</td>\n",
       "      <td>5.00</td>\n",
       "      <td>\\r\\n\\t\\t\\t\\t\\tClotrimazole is used to treat sk...</td>\n",
       "    </tr>\n",
       "    <tr>\n",
       "      <th>2215</th>\n",
       "      <td>vulvovaginal candidiasis</td>\n",
       "      <td>Butoconazole Nitrate</td>\n",
       "      <td>On Label</td>\n",
       "      <td>RX</td>\n",
       "      <td>1 Reviews</td>\n",
       "      <td>5.00</td>\n",
       "      <td>5.00</td>\n",
       "      <td>5.00</td>\n",
       "      <td>\\r\\n\\t\\t\\t\\t\\tThis medication is used to treat...</td>\n",
       "    </tr>\n",
       "    <tr>\n",
       "      <th>2216</th>\n",
       "      <td>vulvovaginal candidiasis</td>\n",
       "      <td>Clotrimazole</td>\n",
       "      <td>On Label</td>\n",
       "      <td>OTC</td>\n",
       "      <td>1 Reviews</td>\n",
       "      <td>5.00</td>\n",
       "      <td>4.00</td>\n",
       "      <td>5.00</td>\n",
       "      <td>\\r\\n\\t\\t\\t\\t\\tClotrimazole is used to treat sk...</td>\n",
       "    </tr>\n",
       "    <tr>\n",
       "      <th>2217</th>\n",
       "      <td>vulvovaginal candidiasis</td>\n",
       "      <td>Butoconazole Nitrate</td>\n",
       "      <td>On Label</td>\n",
       "      <td>OTC</td>\n",
       "      <td>1 Reviews</td>\n",
       "      <td>5.00</td>\n",
       "      <td>5.00</td>\n",
       "      <td>5.00</td>\n",
       "      <td>\\r\\n\\t\\t\\t\\t\\tThis medication is used to treat...</td>\n",
       "    </tr>\n",
       "    <tr>\n",
       "      <th>2218</th>\n",
       "      <td>vulvovaginal candidiasis</td>\n",
       "      <td>Miconazole-Skin Clnsr17</td>\n",
       "      <td>On Label</td>\n",
       "      <td>OTC</td>\n",
       "      <td>1 Reviews</td>\n",
       "      <td>1.00</td>\n",
       "      <td>4.00</td>\n",
       "      <td>1.00</td>\n",
       "      <td>\\r\\n\\t\\t\\t\\t\\tThis medication is used to treat...</td>\n",
       "    </tr>\n",
       "  </tbody>\n",
       "</table>\n",
       "<p>2219 rows × 9 columns</p>\n",
       "</div>"
      ],
      "text/plain": [
       "                      Condition                     Drug Indication Type  \\\n",
       "0     Acute Bacterial Sinusitis             Levofloxacin   On Label   RX   \n",
       "1     Acute Bacterial Sinusitis             Levofloxacin   On Label   RX   \n",
       "2     Acute Bacterial Sinusitis             Moxifloxacin   On Label   RX   \n",
       "3     Acute Bacterial Sinusitis             Azithromycin   On Label   RX   \n",
       "4     Acute Bacterial Sinusitis             Azithromycin   On Label   RX   \n",
       "...                         ...                      ...        ...  ...   \n",
       "2214   vulvovaginal candidiasis             Clotrimazole   On Label  OTC   \n",
       "2215   vulvovaginal candidiasis     Butoconazole Nitrate   On Label   RX   \n",
       "2216   vulvovaginal candidiasis             Clotrimazole   On Label  OTC   \n",
       "2217   vulvovaginal candidiasis     Butoconazole Nitrate   On Label  OTC   \n",
       "2218   vulvovaginal candidiasis  Miconazole-Skin Clnsr17   On Label  OTC   \n",
       "\n",
       "          Reviews  Effective  EaseOfUse  Satisfaction  \\\n",
       "0     994 Reviews       2.52       3.01          1.84   \n",
       "1     994 Reviews       2.52       3.01          1.84   \n",
       "2     755 Reviews       2.78       3.00          2.08   \n",
       "3     584 Reviews       3.21       4.01          2.57   \n",
       "4     584 Reviews       3.21       4.01          2.57   \n",
       "...           ...        ...        ...           ...   \n",
       "2214    2 Reviews       5.00       5.00          5.00   \n",
       "2215    1 Reviews       5.00       5.00          5.00   \n",
       "2216    1 Reviews       5.00       4.00          5.00   \n",
       "2217    1 Reviews       5.00       5.00          5.00   \n",
       "2218    1 Reviews       1.00       4.00          1.00   \n",
       "\n",
       "                                            Information  \n",
       "0     \\r\\n\\t\\t\\t\\t\\tLevofloxacin is used to treat a ...  \n",
       "1     \\r\\n\\t\\t\\t\\t\\tLevofloxacin is used to treat a ...  \n",
       "2     \\r\\n\\t\\t\\t\\t\\t This is a generic drug. The ave...  \n",
       "3     \\r\\n\\t\\t\\t\\t\\tAzithromycin is an antibiotic (m...  \n",
       "4     \\r\\n\\t\\t\\t\\t\\tAzithromycin is an antibiotic (m...  \n",
       "...                                                 ...  \n",
       "2214  \\r\\n\\t\\t\\t\\t\\tClotrimazole is used to treat sk...  \n",
       "2215  \\r\\n\\t\\t\\t\\t\\tThis medication is used to treat...  \n",
       "2216  \\r\\n\\t\\t\\t\\t\\tClotrimazole is used to treat sk...  \n",
       "2217  \\r\\n\\t\\t\\t\\t\\tThis medication is used to treat...  \n",
       "2218  \\r\\n\\t\\t\\t\\t\\tThis medication is used to treat...  \n",
       "\n",
       "[2219 rows x 9 columns]"
      ]
     },
     "execution_count": 150,
     "metadata": {},
     "output_type": "execute_result"
    }
   ],
   "source": [
    "df"
   ]
  },
  {
   "cell_type": "code",
   "execution_count": 151,
   "id": "9c0e3b7f",
   "metadata": {},
   "outputs": [
    {
     "data": {
      "text/plain": [
       "Condition        object\n",
       "Drug             object\n",
       "Indication       object\n",
       "Type             object\n",
       "Reviews          object\n",
       "Effective       float64\n",
       "EaseOfUse       float64\n",
       "Satisfaction    float64\n",
       "Information      object\n",
       "dtype: object"
      ]
     },
     "execution_count": 151,
     "metadata": {},
     "output_type": "execute_result"
    }
   ],
   "source": [
    "df.dtypes"
   ]
  },
  {
   "cell_type": "code",
   "execution_count": 152,
   "id": "8052010c",
   "metadata": {},
   "outputs": [
    {
     "data": {
      "text/plain": [
       "Index(['Condition', 'Drug', 'Indication', 'Type', 'Reviews', 'Effective',\n",
       "       'EaseOfUse', 'Satisfaction', 'Information'],\n",
       "      dtype='object')"
      ]
     },
     "execution_count": 152,
     "metadata": {},
     "output_type": "execute_result"
    }
   ],
   "source": [
    "df.columns"
   ]
  },
  {
   "cell_type": "code",
   "execution_count": 153,
   "id": "42d31be5",
   "metadata": {},
   "outputs": [
    {
     "data": {
      "text/plain": [
       "Condition       0\n",
       "Drug            0\n",
       "Indication      0\n",
       "Type            0\n",
       "Reviews         0\n",
       "Effective       0\n",
       "EaseOfUse       0\n",
       "Satisfaction    0\n",
       "Information     0\n",
       "dtype: int64"
      ]
     },
     "execution_count": 153,
     "metadata": {},
     "output_type": "execute_result"
    }
   ],
   "source": [
    "df.isnull().sum()"
   ]
  },
  {
   "cell_type": "code",
   "execution_count": 154,
   "id": "1e2459a1",
   "metadata": {},
   "outputs": [
    {
     "data": {
      "text/plain": [
       "fever                                        308\n",
       "hypertension                                 236\n",
       "Atopic Dermatitis                            209\n",
       "endometriosis                                163\n",
       "gastroesophageal reflux disease              131\n",
       "Bacterial Urinary Tract Infection            131\n",
       "back pain                                    123\n",
       "gout                                         110\n",
       "Pharyngitis due to Streptococcus Pyogenes     83\n",
       "vertigo                                       81\n",
       "flatulence                                    76\n",
       "Acute Bacterial Sinusitis                     65\n",
       "hypercholesterolemia                          59\n",
       "hemorrhoids                                   53\n",
       "diverticulitis of gastrointestinal tract      48\n",
       "Bacterial Conjunctivitis                      42\n",
       "edema                                         41\n",
       "prevention of cerebrovascular accident        38\n",
       "depression                                    32\n",
       "vulvovaginal candidiasis                      29\n",
       "fibromyalgia                                  27\n",
       "sore throat                                   23\n",
       "adenocarcinoma of pancreas                    15\n",
       "oral candidiasis                              13\n",
       "genital herpes simplex                        11\n",
       "impetigo                                      10\n",
       "Infantile Autism                              10\n",
       "pyelonephritis                                 9\n",
       "scabies                                        7\n",
       "furunculosis                                   7\n",
       "meniere's disease                              6\n",
       "herpes zoster                                  6\n",
       "Influenza                                      4\n",
       "chickenpox                                     4\n",
       "Sleepiness Due To Obstructive Sleep Apnea      4\n",
       "biliary calculus                               4\n",
       "colorectal cancer                              1\n",
       "Name: Condition, dtype: int64"
      ]
     },
     "execution_count": 154,
     "metadata": {},
     "output_type": "execute_result"
    }
   ],
   "source": [
    "df[\"Condition\"].value_counts()"
   ]
  },
  {
   "cell_type": "code",
   "execution_count": 155,
   "id": "3d14c99a",
   "metadata": {},
   "outputs": [
    {
     "data": {
      "text/plain": [
       "array(['Acute Bacterial Sinusitis', 'adenocarcinoma of pancreas',\n",
       "       'Atopic Dermatitis', 'back pain', 'Bacterial Conjunctivitis',\n",
       "       'Bacterial Urinary Tract Infection', 'biliary calculus',\n",
       "       'chickenpox', 'colorectal cancer', 'depression',\n",
       "       'diverticulitis of gastrointestinal tract', 'edema',\n",
       "       'endometriosis', 'fever', 'fibromyalgia', 'flatulence',\n",
       "       'furunculosis', 'gastroesophageal reflux disease',\n",
       "       'genital herpes simplex', 'gout', 'hemorrhoids', 'herpes zoster',\n",
       "       'hypercholesterolemia', 'hypertension', 'impetigo',\n",
       "       'Infantile Autism', 'Influenza', \"meniere's disease\",\n",
       "       'oral candidiasis', 'Pharyngitis due to Streptococcus Pyogenes',\n",
       "       'prevention of cerebrovascular accident', 'pyelonephritis',\n",
       "       'scabies', 'Sleepiness Due To Obstructive Sleep Apnea',\n",
       "       'sore throat', 'vertigo', 'vulvovaginal candidiasis'], dtype=object)"
      ]
     },
     "execution_count": 155,
     "metadata": {},
     "output_type": "execute_result"
    }
   ],
   "source": [
    "df[\"Condition\"].unique()"
   ]
  },
  {
   "cell_type": "code",
   "execution_count": 156,
   "id": "be8dd466",
   "metadata": {},
   "outputs": [
    {
     "data": {
      "text/plain": [
       "Acetaminophen                                             114\n",
       "Ibuprofen                                                  73\n",
       "Diphenhydramine Hcl                                        58\n",
       "Aspirin                                                    42\n",
       "Sulfamethoxazole-Trimethoprim                              40\n",
       "                                                         ... \n",
       "Pramoxine-Zinc Oxide                                        1\n",
       "Hydrocortisone Acetate, Bismuth Subg-Balsam-Znox-Resor      1\n",
       "Fluocinolone-Skin Clnsr28                                   1\n",
       "Starch, Pramoxine-Mineral Oil-Zinc                          1\n",
       "Zinc Oxide                                                  1\n",
       "Name: Drug, Length: 470, dtype: int64"
      ]
     },
     "execution_count": 156,
     "metadata": {},
     "output_type": "execute_result"
    }
   ],
   "source": [
    "df['Drug'].value_counts()"
   ]
  },
  {
   "cell_type": "code",
   "execution_count": 157,
   "id": "ccbe2790",
   "metadata": {},
   "outputs": [
    {
     "data": {
      "text/plain": [
       "array(['On Label', 'Off Label', '\\r\\n'], dtype=object)"
      ]
     },
     "execution_count": 157,
     "metadata": {},
     "output_type": "execute_result"
    }
   ],
   "source": [
    "df[\"Indication\"].unique()"
   ]
  },
  {
   "cell_type": "code",
   "execution_count": 158,
   "id": "c899fbcf",
   "metadata": {
    "scrolled": true
   },
   "outputs": [
    {
     "data": {
      "text/plain": [
       "Condition        0\n",
       "Drug             0\n",
       "Indication      31\n",
       "Type             7\n",
       "Reviews          0\n",
       "Effective        0\n",
       "EaseOfUse        0\n",
       "Satisfaction     0\n",
       "Information      0\n",
       "dtype: int64"
      ]
     },
     "execution_count": 158,
     "metadata": {},
     "output_type": "execute_result"
    }
   ],
   "source": [
    "df.eq(\"\\r\\n\").sum()"
   ]
  },
  {
   "cell_type": "code",
   "execution_count": 159,
   "id": "0b34d8d1",
   "metadata": {},
   "outputs": [],
   "source": [
    "df[\"Indication\"]=df[\"Indication\"].str.replace('\\r\\n','unidendified')"
   ]
  },
  {
   "cell_type": "code",
   "execution_count": 160,
   "id": "26b1c33b",
   "metadata": {},
   "outputs": [],
   "source": [
    "df[\"Type\"]=df[\"Type\"].str.replace('\\r\\n','unidendified')"
   ]
  },
  {
   "cell_type": "code",
   "execution_count": 161,
   "id": "b5dda513",
   "metadata": {},
   "outputs": [
    {
     "data": {
      "text/plain": [
       "Condition       0\n",
       "Drug            0\n",
       "Indication      0\n",
       "Type            0\n",
       "Reviews         0\n",
       "Effective       0\n",
       "EaseOfUse       0\n",
       "Satisfaction    0\n",
       "Information     0\n",
       "dtype: int64"
      ]
     },
     "execution_count": 161,
     "metadata": {},
     "output_type": "execute_result"
    }
   ],
   "source": [
    "df.eq(\"\\r\\n\").sum()"
   ]
  },
  {
   "cell_type": "code",
   "execution_count": 162,
   "id": "673bd031",
   "metadata": {},
   "outputs": [],
   "source": [
    "df.drop(\"Information\",axis=1,inplace=True)"
   ]
  },
  {
   "cell_type": "code",
   "execution_count": 163,
   "id": "85089124",
   "metadata": {},
   "outputs": [
    {
     "data": {
      "text/plain": [
       "Index(['Condition', 'Drug', 'Indication', 'Type', 'Reviews', 'Effective',\n",
       "       'EaseOfUse', 'Satisfaction'],\n",
       "      dtype='object')"
      ]
     },
     "execution_count": 163,
     "metadata": {},
     "output_type": "execute_result"
    }
   ],
   "source": [
    "df.columns"
   ]
  },
  {
   "cell_type": "code",
   "execution_count": 164,
   "id": "ea637829",
   "metadata": {},
   "outputs": [],
   "source": [
    "Effective=[]\n",
    "for i in df[\"Effective\"]:\n",
    "    if i<1.0:\n",
    "        Effective.append(\"Very Uneffective\")\n",
    "    elif i<2.0:\n",
    "        Effective.append(\"Uneffective\")\n",
    "    elif i<3.0:\n",
    "            Effective.append(\"Partly effective\")\n",
    "    elif i<4.0:\n",
    "        Effective.append(\"Effective\")\n",
    "    elif i<=5.0:\n",
    "        Effective.append(\"Very effective\")\n",
    "df[\"Effective_\"]=Effective"
   ]
  },
  {
   "cell_type": "code",
   "execution_count": 165,
   "id": "604d703a",
   "metadata": {},
   "outputs": [
    {
     "data": {
      "text/plain": [
       "Very effective      939\n",
       "Effective           817\n",
       "Partly effective    280\n",
       "Uneffective         183\n",
       "Name: Effective_, dtype: int64"
      ]
     },
     "execution_count": 165,
     "metadata": {},
     "output_type": "execute_result"
    }
   ],
   "source": [
    "df[\"Effective_\"].value_counts()"
   ]
  },
  {
   "cell_type": "code",
   "execution_count": 166,
   "id": "1ead09d0",
   "metadata": {},
   "outputs": [
    {
     "data": {
      "text/plain": [
       "Effective_        Type        \n",
       "Effective         OTC             136\n",
       "                  RX              638\n",
       "                  RX/OTC           39\n",
       "                  unidendified      4\n",
       "Partly effective  OTC              73\n",
       "                  RX              195\n",
       "                  RX/OTC           11\n",
       "                  unidendified      1\n",
       "Uneffective       OTC              89\n",
       "                  RX               92\n",
       "                  RX/OTC            2\n",
       "Very effective    OTC             439\n",
       "                  RX              476\n",
       "                  RX/OTC           22\n",
       "                  unidendified      2\n",
       "Name: Type, dtype: int64"
      ]
     },
     "execution_count": 166,
     "metadata": {},
     "output_type": "execute_result"
    }
   ],
   "source": [
    "df[['Effective_', 'Type']].groupby(['Effective_','Type'])['Type'].count()"
   ]
  },
  {
   "cell_type": "code",
   "execution_count": 167,
   "id": "73c5f84a",
   "metadata": {},
   "outputs": [
    {
     "data": {
      "text/plain": [
       "Effective_        Indication  \n",
       "Effective         Off Label       167\n",
       "                  On Label        642\n",
       "                  unidendified      8\n",
       "Partly effective  Off Label        41\n",
       "                  On Label        235\n",
       "                  unidendified      4\n",
       "Uneffective       Off Label        33\n",
       "                  On Label        149\n",
       "                  unidendified      1\n",
       "Very effective    Off Label       224\n",
       "                  On Label        697\n",
       "                  unidendified     18\n",
       "Name: Effective_, dtype: int64"
      ]
     },
     "execution_count": 167,
     "metadata": {},
     "output_type": "execute_result"
    }
   ],
   "source": [
    "df[['Effective_', 'Indication']].groupby(['Effective_','Indication'])['Effective_'].count()"
   ]
  },
  {
   "cell_type": "code",
   "execution_count": 168,
   "id": "86c0b22c",
   "metadata": {},
   "outputs": [],
   "source": [
    "EaseOfUse=[]\n",
    "for i in df[\"EaseOfUse\"]:\n",
    "    if i<1.0:\n",
    "        EaseOfUse.append(\"Very Difficult\")\n",
    "    elif i<2.0:\n",
    "        EaseOfUse.append(\"Difficult\")\n",
    "    elif i<3.0:\n",
    "            EaseOfUse.append(\"Normal\")\n",
    "    elif i<4.0:\n",
    "        EaseOfUse.append(\"Easy\")\n",
    "    elif i<=5.0:\n",
    "        EaseOfUse.append(\"Very Easy\")\n",
    "df[\"EaseOfUse_\"]=EaseOfUse"
   ]
  },
  {
   "cell_type": "code",
   "execution_count": 169,
   "id": "b10cb353",
   "metadata": {},
   "outputs": [
    {
     "data": {
      "text/plain": [
       "Very Easy    1434\n",
       "Easy          531\n",
       "Normal        127\n",
       "Difficult     127\n",
       "Name: EaseOfUse_, dtype: int64"
      ]
     },
     "execution_count": 169,
     "metadata": {},
     "output_type": "execute_result"
    }
   ],
   "source": [
    "df[\"EaseOfUse_\"].value_counts()"
   ]
  },
  {
   "cell_type": "code",
   "execution_count": 170,
   "id": "006a8a78",
   "metadata": {},
   "outputs": [
    {
     "data": {
      "text/plain": [
       "EaseOfUse_  Type        \n",
       "Difficult   OTC              58\n",
       "            RX               67\n",
       "            RX/OTC            2\n",
       "Easy        OTC              81\n",
       "            RX              429\n",
       "            RX/OTC           19\n",
       "            unidendified      2\n",
       "Normal      OTC              30\n",
       "            RX               97\n",
       "Very Easy   OTC             568\n",
       "            RX              808\n",
       "            RX/OTC           53\n",
       "            unidendified      5\n",
       "Name: Type, dtype: int64"
      ]
     },
     "execution_count": 170,
     "metadata": {},
     "output_type": "execute_result"
    }
   ],
   "source": [
    "df[['EaseOfUse_', 'Type']].groupby(['EaseOfUse_','Type'])['Type'].count()"
   ]
  },
  {
   "cell_type": "code",
   "execution_count": 171,
   "id": "3ecfd4f4",
   "metadata": {},
   "outputs": [],
   "source": [
    "Satisfaction=[]\n",
    "for i in df[\"Satisfaction\"]:\n",
    "    if i<1.0:\n",
    "        Satisfaction.append(\"Very Unsatisfied\")\n",
    "    elif i<2.0:\n",
    "        Satisfaction.append(\"Unsatisfied\")\n",
    "    elif i<3.0:\n",
    "            Satisfaction.append(\"Partly satisfied\")\n",
    "    elif i<4.0:\n",
    "        Satisfaction.append(\"More Than Satisfied\")\n",
    "    elif i<=5.0:\n",
    "        Satisfaction.append(\"Very Satisfied\")\n",
    "df[\"Satisfaction_\"]=Satisfaction"
   ]
  },
  {
   "cell_type": "code",
   "execution_count": 172,
   "id": "151a3108",
   "metadata": {},
   "outputs": [
    {
     "data": {
      "text/plain": [
       "Very Satisfied         744\n",
       "More Than Satisfied    623\n",
       "Partly satisfied       533\n",
       "Unsatisfied            319\n",
       "Name: Satisfaction_, dtype: int64"
      ]
     },
     "execution_count": 172,
     "metadata": {},
     "output_type": "execute_result"
    }
   ],
   "source": [
    "df[\"Satisfaction_\"].value_counts()"
   ]
  },
  {
   "cell_type": "code",
   "execution_count": 173,
   "id": "b08359a9",
   "metadata": {},
   "outputs": [
    {
     "data": {
      "text/plain": [
       "Satisfaction_        Type        \n",
       "More Than Satisfied  OTC             115\n",
       "                     RX              468\n",
       "                     RX/OTC           36\n",
       "                     unidendified      4\n",
       "Partly satisfied     OTC              74\n",
       "                     RX              439\n",
       "                     RX/OTC           19\n",
       "                     unidendified      1\n",
       "Unsatisfied          OTC             124\n",
       "                     RX              193\n",
       "                     RX/OTC            2\n",
       "Very Satisfied       OTC             424\n",
       "                     RX              301\n",
       "                     RX/OTC           17\n",
       "                     unidendified      2\n",
       "Name: Type, dtype: int64"
      ]
     },
     "execution_count": 173,
     "metadata": {},
     "output_type": "execute_result"
    }
   ],
   "source": [
    "df[['Satisfaction_', 'Type']].groupby(['Satisfaction_','Type'])['Type'].count()"
   ]
  },
  {
   "cell_type": "code",
   "execution_count": 174,
   "id": "df8d0d9a",
   "metadata": {},
   "outputs": [
    {
     "name": "stderr",
     "output_type": "stream",
     "text": [
      "C:\\Users\\ADMIN\\AppData\\Local\\Temp\\ipykernel_15520\\621126171.py:1: FutureWarning: The default value of numeric_only in DataFrame.corr is deprecated. In a future version, it will default to False. Select only valid columns or specify the value of numeric_only to silence this warning.\n",
      "  sns.heatmap(df.corr(), annot=True)\n"
     ]
    },
    {
     "data": {
      "text/plain": [
       "<Axes: >"
      ]
     },
     "execution_count": 174,
     "metadata": {},
     "output_type": "execute_result"
    },
    {
     "data": {
      "image/png": "[encoded data removed]",
      "text/plain": [
       "<Figure size 640x480 with 2 Axes>"
      ]
     },
     "metadata": {},
     "output_type": "display_data"
    }
   ],
   "source": [
    "sns.heatmap(df.corr(), annot=True)"
   ]
  },
  {
   "cell_type": "code",
   "execution_count": 175,
   "id": "2b3b32cd",
   "metadata": {},
   "outputs": [
    {
     "data": {
      "text/html": [
       "<div>\n",
       "<style scoped>\n",
       "    .dataframe tbody tr th:only-of-type {\n",
       "        vertical-align: middle;\n",
       "    }\n",
       "\n",
       "    .dataframe tbody tr th {\n",
       "        vertical-align: top;\n",
       "    }\n",
       "\n",
       "    .dataframe thead th {\n",
       "        text-align: right;\n",
       "    }\n",
       "</style>\n",
       "<table border=\"1\" class=\"dataframe\">\n",
       "  <thead>\n",
       "    <tr style=\"text-align: right;\">\n",
       "      <th></th>\n",
       "      <th>Condition</th>\n",
       "      <th>Drug</th>\n",
       "      <th>Indication</th>\n",
       "      <th>Type</th>\n",
       "      <th>Reviews</th>\n",
       "      <th>Effective</th>\n",
       "      <th>EaseOfUse</th>\n",
       "      <th>Satisfaction</th>\n",
       "      <th>Effective_</th>\n",
       "      <th>EaseOfUse_</th>\n",
       "      <th>Satisfaction_</th>\n",
       "    </tr>\n",
       "  </thead>\n",
       "  <tbody>\n",
       "    <tr>\n",
       "      <th>0</th>\n",
       "      <td>Acute Bacterial Sinusitis</td>\n",
       "      <td>Levofloxacin</td>\n",
       "      <td>On Label</td>\n",
       "      <td>RX</td>\n",
       "      <td>994 Reviews</td>\n",
       "      <td>2.52</td>\n",
       "      <td>3.01</td>\n",
       "      <td>1.84</td>\n",
       "      <td>Partly effective</td>\n",
       "      <td>Easy</td>\n",
       "      <td>Unsatisfied</td>\n",
       "    </tr>\n",
       "    <tr>\n",
       "      <th>1</th>\n",
       "      <td>Acute Bacterial Sinusitis</td>\n",
       "      <td>Moxifloxacin</td>\n",
       "      <td>On Label</td>\n",
       "      <td>RX</td>\n",
       "      <td>755 Reviews</td>\n",
       "      <td>2.78</td>\n",
       "      <td>3.00</td>\n",
       "      <td>2.08</td>\n",
       "      <td>Partly effective</td>\n",
       "      <td>Easy</td>\n",
       "      <td>Partly satisfied</td>\n",
       "    </tr>\n",
       "    <tr>\n",
       "      <th>2</th>\n",
       "      <td>Acute Bacterial Sinusitis</td>\n",
       "      <td>Azithromycin</td>\n",
       "      <td>On Label</td>\n",
       "      <td>RX</td>\n",
       "      <td>584 Reviews</td>\n",
       "      <td>3.21</td>\n",
       "      <td>4.01</td>\n",
       "      <td>2.57</td>\n",
       "      <td>Effective</td>\n",
       "      <td>Very Easy</td>\n",
       "      <td>Partly satisfied</td>\n",
       "    </tr>\n",
       "    <tr>\n",
       "      <th>3</th>\n",
       "      <td>Acute Bacterial Sinusitis</td>\n",
       "      <td>Amoxicillin-Pot Clavulanate</td>\n",
       "      <td>On Label</td>\n",
       "      <td>RX</td>\n",
       "      <td>437 Reviews</td>\n",
       "      <td>3.26</td>\n",
       "      <td>3.23</td>\n",
       "      <td>2.42</td>\n",
       "      <td>Effective</td>\n",
       "      <td>Easy</td>\n",
       "      <td>Partly satisfied</td>\n",
       "    </tr>\n",
       "    <tr>\n",
       "      <th>4</th>\n",
       "      <td>Acute Bacterial Sinusitis</td>\n",
       "      <td>Levofloxacin</td>\n",
       "      <td>On Label</td>\n",
       "      <td>RX</td>\n",
       "      <td>361 Reviews</td>\n",
       "      <td>2.44</td>\n",
       "      <td>2.96</td>\n",
       "      <td>1.68</td>\n",
       "      <td>Partly effective</td>\n",
       "      <td>Normal</td>\n",
       "      <td>Unsatisfied</td>\n",
       "    </tr>\n",
       "    <tr>\n",
       "      <th>...</th>\n",
       "      <td>...</td>\n",
       "      <td>...</td>\n",
       "      <td>...</td>\n",
       "      <td>...</td>\n",
       "      <td>...</td>\n",
       "      <td>...</td>\n",
       "      <td>...</td>\n",
       "      <td>...</td>\n",
       "      <td>...</td>\n",
       "      <td>...</td>\n",
       "      <td>...</td>\n",
       "    </tr>\n",
       "    <tr>\n",
       "      <th>1745</th>\n",
       "      <td>vulvovaginal candidiasis</td>\n",
       "      <td>Clotrimazole</td>\n",
       "      <td>On Label</td>\n",
       "      <td>OTC</td>\n",
       "      <td>2 Reviews</td>\n",
       "      <td>5.00</td>\n",
       "      <td>5.00</td>\n",
       "      <td>5.00</td>\n",
       "      <td>Very effective</td>\n",
       "      <td>Very Easy</td>\n",
       "      <td>Very Satisfied</td>\n",
       "    </tr>\n",
       "    <tr>\n",
       "      <th>1746</th>\n",
       "      <td>vulvovaginal candidiasis</td>\n",
       "      <td>Butoconazole Nitrate</td>\n",
       "      <td>On Label</td>\n",
       "      <td>RX</td>\n",
       "      <td>1 Reviews</td>\n",
       "      <td>5.00</td>\n",
       "      <td>5.00</td>\n",
       "      <td>5.00</td>\n",
       "      <td>Very effective</td>\n",
       "      <td>Very Easy</td>\n",
       "      <td>Very Satisfied</td>\n",
       "    </tr>\n",
       "    <tr>\n",
       "      <th>1747</th>\n",
       "      <td>vulvovaginal candidiasis</td>\n",
       "      <td>Clotrimazole</td>\n",
       "      <td>On Label</td>\n",
       "      <td>OTC</td>\n",
       "      <td>1 Reviews</td>\n",
       "      <td>5.00</td>\n",
       "      <td>4.00</td>\n",
       "      <td>5.00</td>\n",
       "      <td>Very effective</td>\n",
       "      <td>Very Easy</td>\n",
       "      <td>Very Satisfied</td>\n",
       "    </tr>\n",
       "    <tr>\n",
       "      <th>1748</th>\n",
       "      <td>vulvovaginal candidiasis</td>\n",
       "      <td>Butoconazole Nitrate</td>\n",
       "      <td>On Label</td>\n",
       "      <td>OTC</td>\n",
       "      <td>1 Reviews</td>\n",
       "      <td>5.00</td>\n",
       "      <td>5.00</td>\n",
       "      <td>5.00</td>\n",
       "      <td>Very effective</td>\n",
       "      <td>Very Easy</td>\n",
       "      <td>Very Satisfied</td>\n",
       "    </tr>\n",
       "    <tr>\n",
       "      <th>1749</th>\n",
       "      <td>vulvovaginal candidiasis</td>\n",
       "      <td>Miconazole-Skin Clnsr17</td>\n",
       "      <td>On Label</td>\n",
       "      <td>OTC</td>\n",
       "      <td>1 Reviews</td>\n",
       "      <td>1.00</td>\n",
       "      <td>4.00</td>\n",
       "      <td>1.00</td>\n",
       "      <td>Uneffective</td>\n",
       "      <td>Very Easy</td>\n",
       "      <td>Unsatisfied</td>\n",
       "    </tr>\n",
       "  </tbody>\n",
       "</table>\n",
       "<p>1750 rows × 11 columns</p>\n",
       "</div>"
      ],
      "text/plain": [
       "                      Condition                         Drug Indication Type  \\\n",
       "0     Acute Bacterial Sinusitis                 Levofloxacin   On Label   RX   \n",
       "1     Acute Bacterial Sinusitis                 Moxifloxacin   On Label   RX   \n",
       "2     Acute Bacterial Sinusitis                 Azithromycin   On Label   RX   \n",
       "3     Acute Bacterial Sinusitis  Amoxicillin-Pot Clavulanate   On Label   RX   \n",
       "4     Acute Bacterial Sinusitis                 Levofloxacin   On Label   RX   \n",
       "...                         ...                          ...        ...  ...   \n",
       "1745   vulvovaginal candidiasis                 Clotrimazole   On Label  OTC   \n",
       "1746   vulvovaginal candidiasis         Butoconazole Nitrate   On Label   RX   \n",
       "1747   vulvovaginal candidiasis                 Clotrimazole   On Label  OTC   \n",
       "1748   vulvovaginal candidiasis         Butoconazole Nitrate   On Label  OTC   \n",
       "1749   vulvovaginal candidiasis      Miconazole-Skin Clnsr17   On Label  OTC   \n",
       "\n",
       "          Reviews  Effective  EaseOfUse  Satisfaction        Effective_  \\\n",
       "0     994 Reviews       2.52       3.01          1.84  Partly effective   \n",
       "1     755 Reviews       2.78       3.00          2.08  Partly effective   \n",
       "2     584 Reviews       3.21       4.01          2.57         Effective   \n",
       "3     437 Reviews       3.26       3.23          2.42         Effective   \n",
       "4     361 Reviews       2.44       2.96          1.68  Partly effective   \n",
       "...           ...        ...        ...           ...               ...   \n",
       "1745    2 Reviews       5.00       5.00          5.00    Very effective   \n",
       "1746    1 Reviews       5.00       5.00          5.00    Very effective   \n",
       "1747    1 Reviews       5.00       4.00          5.00    Very effective   \n",
       "1748    1 Reviews       5.00       5.00          5.00    Very effective   \n",
       "1749    1 Reviews       1.00       4.00          1.00       Uneffective   \n",
       "\n",
       "     EaseOfUse_     Satisfaction_  \n",
       "0          Easy       Unsatisfied  \n",
       "1          Easy  Partly satisfied  \n",
       "2     Very Easy  Partly satisfied  \n",
       "3          Easy  Partly satisfied  \n",
       "4        Normal       Unsatisfied  \n",
       "...         ...               ...  \n",
       "1745  Very Easy    Very Satisfied  \n",
       "1746  Very Easy    Very Satisfied  \n",
       "1747  Very Easy    Very Satisfied  \n",
       "1748  Very Easy    Very Satisfied  \n",
       "1749  Very Easy       Unsatisfied  \n",
       "\n",
       "[1750 rows x 11 columns]"
      ]
     },
     "execution_count": 175,
     "metadata": {},
     "output_type": "execute_result"
    }
   ],
   "source": [
    "df.drop_duplicates(keep='first', inplace=True)\n",
    "df.reset_index(drop=True)"
   ]
  },
  {
   "cell_type": "code",
   "execution_count": 176,
   "id": "8a176656",
   "metadata": {},
   "outputs": [],
   "source": [
    "popular_drugs = df.sort_values(by='Reviews', ascending=False).head(10)"
   ]
  },
  {
   "cell_type": "code",
   "execution_count": 177,
   "id": "e6559893",
   "metadata": {},
   "outputs": [
    {
     "data": {
      "text/plain": [
       "<Axes: xlabel='Effective', ylabel='Drug'>"
      ]
     },
     "execution_count": 177,
     "metadata": {},
     "output_type": "execute_result"
    },
    {
     "data": {
      "image/png": "[encoded data removed]",
      "text/plain": [
       "<Figure size 640x480 with 1 Axes>"
      ]
     },
     "metadata": {},
     "output_type": "display_data"
    }
   ],
   "source": [
    "sns.barplot(data=popular_drugs, y='Drug', x='Effective')"
   ]
  },
  {
   "cell_type": "code",
   "execution_count": 178,
   "id": "fdbab977",
   "metadata": {},
   "outputs": [
    {
     "data": {
      "text/plain": [
       "<Axes: xlabel='EaseOfUse', ylabel='Drug'>"
      ]
     },
     "execution_count": 178,
     "metadata": {},
     "output_type": "execute_result"
    },
    {
     "data": {
      "image/png": "[encoded data removed]",
      "text/plain": [
       "<Figure size 640x480 with 1 Axes>"
      ]
     },
     "metadata": {},
     "output_type": "display_data"
    }
   ],
   "source": [
    "sns.barplot(data=popular_drugs, y='Drug', x='EaseOfUse', hue='Type')"
   ]
  },
  {
   "cell_type": "code",
   "execution_count": 179,
   "id": "ba9cb64b",
   "metadata": {},
   "outputs": [
    {
     "data": {
      "text/plain": [
       "<Axes: xlabel='EaseOfUse', ylabel='Drug'>"
      ]
     },
     "execution_count": 179,
     "metadata": {},
     "output_type": "execute_result"
    },
    {
     "data": {
      "image/png": "[encoded data removed]",
      "text/plain": [
       "<Figure size 640x480 with 1 Axes>"
      ]
     },
     "metadata": {},
     "output_type": "display_data"
    }
   ],
   "source": [
    "sns.barplot(data=popular_drugs, y='Drug', x='EaseOfUse', hue='Indication')"
   ]
  }
 ],
 "metadata": {
  "kernelspec": {
   "display_name": "Python 3 (ipykernel)",
   "language": "python",
   "name": "python3"
  },
  "language_info": {
   "codemirror_mode": {
    "name": "ipython",
    "version": 3
   },
   "file_extension": ".py",
   "mimetype": "text/x-python",
   "name": "python",
   "nbconvert_exporter": "python",
   "pygments_lexer": "ipython3",
   "version": "3.11.4"
  }
 },
 "nbformat": 4,
 "nbformat_minor": 5
}
